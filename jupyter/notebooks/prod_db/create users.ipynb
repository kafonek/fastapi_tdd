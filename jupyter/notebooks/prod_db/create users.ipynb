{
 "cells": [
  {
   "cell_type": "code",
   "execution_count": null,
   "id": "4c1a025a",
   "metadata": {
    "ExecuteTime": {
     "end_time": "2021-06-15T13:31:06.987552Z",
     "start_time": "2021-06-15T13:31:06.879044Z"
    }
   },
   "outputs": [],
   "source": [
    "%load_ext nb_black"
   ]
  },
  {
   "cell_type": "code",
   "execution_count": null,
   "id": "4d41656d",
   "metadata": {
    "ExecuteTime": {
     "end_time": "2021-06-15T13:31:07.074444Z",
     "start_time": "2021-06-15T13:31:06.990114Z"
    }
   },
   "outputs": [],
   "source": [
    "import sys\n",
    "\n",
    "sys.path.append(\"/home/jovyan/src\")"
   ]
  },
  {
   "cell_type": "code",
   "execution_count": null,
   "id": "807a1b35",
   "metadata": {
    "ExecuteTime": {
     "end_time": "2021-06-15T13:31:07.354472Z",
     "start_time": "2021-06-15T13:31:07.077234Z"
    }
   },
   "outputs": [],
   "source": [
    "from app.config import settings\n",
    "\n",
    "settings"
   ]
  },
  {
   "cell_type": "code",
   "execution_count": null,
   "id": "f55cb9f7",
   "metadata": {
    "ExecuteTime": {
     "end_time": "2021-06-15T13:31:07.656861Z",
     "start_time": "2021-06-15T13:31:07.356969Z"
    }
   },
   "outputs": [],
   "source": [
    "settings.DB_ECHO = True\n",
    "settings.DATABASE_URL = 'sqlite:////home/jovyan/src/db/prod.db'"
   ]
  },
  {
   "cell_type": "code",
   "execution_count": null,
   "id": "672edcbd",
   "metadata": {
    "ExecuteTime": {
     "end_time": "2021-06-15T13:31:08.418610Z",
     "start_time": "2021-06-15T13:31:07.659424Z"
    }
   },
   "outputs": [],
   "source": [
    "from app import database\n",
    "\n",
    "session = database.SessionLocal()\n",
    "session"
   ]
  },
  {
   "cell_type": "code",
   "execution_count": null,
   "id": "7650ef8a",
   "metadata": {
    "ExecuteTime": {
     "end_time": "2021-06-15T13:31:09.270315Z",
     "start_time": "2021-06-15T13:31:08.421044Z"
    }
   },
   "outputs": [],
   "source": [
    "from app.models import User\n",
    "from app.security import pwd_context\n",
    "\n",
    "user = User(username=\"jovyan\", password=pwd_context.hash(\"jovyan\"))\n",
    "\n",
    "session.add(user)\n",
    "session.commit()"
   ]
  },
  {
   "cell_type": "code",
   "execution_count": null,
   "id": "7a300c33",
   "metadata": {},
   "outputs": [],
   "source": []
  }
 ],
 "metadata": {
  "kernelspec": {
   "display_name": "Python 3",
   "language": "python",
   "name": "python3"
  },
  "language_info": {
   "codemirror_mode": {
    "name": "ipython",
    "version": 3
   },
   "file_extension": ".py",
   "mimetype": "text/x-python",
   "name": "python",
   "nbconvert_exporter": "python",
   "pygments_lexer": "ipython3",
   "version": "3.9.4"
  },
  "toc": {
   "base_numbering": 1,
   "nav_menu": {},
   "number_sections": true,
   "sideBar": true,
   "skip_h1_title": false,
   "title_cell": "Table of Contents",
   "title_sidebar": "Contents",
   "toc_cell": false,
   "toc_position": {},
   "toc_section_display": true,
   "toc_window_display": false
  }
 },
 "nbformat": 4,
 "nbformat_minor": 5
}
